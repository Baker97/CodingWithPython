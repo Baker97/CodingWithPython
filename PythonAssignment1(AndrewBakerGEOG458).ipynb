{
 "cells": [
  {
   "cell_type": "markdown",
   "metadata": {},
   "source": [
    "# Python Assignment (Andrew Baker) GEOG 458 Winter 2019"
   ]
  },
  {
   "cell_type": "markdown",
   "metadata": {},
   "source": [
    "## Python4oceanographers (Part 1)\n",
    "##### Plotting a GeoDataFrame with folium\n",
    "This is package that allows a clustering of points into a single point (which has a number to show how many actual points exist in an area) in order to reduce noise on a map without losing valuable information. Because if you wanted to show every point on a map, it would overwhelm the map and make it difficult ot understand. As you zoom in, the points spread out in a very aesethetically pleasing animation (its very smooth) and some individual points will come up, while other points still contain clusters that are color coded. \n",
    "\n",
    "it's interesting because it retains accuracy while holding all the information and still being very pretty (which is important to have for veiwers of the map)\n",
    "\n",
    "https://ocefpaf.github.io/python4oceanographers/"
   ]
  },
  {
   "cell_type": "markdown",
   "metadata": {},
   "source": [
    "## Part 1.2(A)\n",
    "#### python libraries\n",
    "\n",
    "Sources: \n",
    "-  https://pythontips.com/2013/07/30/20-python-libraries-you-cant-live-without/\n",
    "-  https://pythontips.com/2018/06/03/top-14-most-famous-python-libraries-frameworks/\n",
    "\n",
    "1. Requests (http://www.python-requests.org/en/master/)\n",
    "    -  an https library that allows for sending HTTP/1.1 requests without manual labor (which im assuming means constant updates to the requests to get what one wants)\n",
    "    -  it also allows for keep-alive connections (updating the information constantly) \n",
    "2. Pillow (https://github.com/python-pillow/Pillow)\n",
    "    -  a more user-friendly version a more PIL\n",
    "    -  this is used for working with images in python\n",
    "3. SQLAlchemy (https://www.sqlalchemy.org/)\n",
    "    -  allows for the ues of SQL in python\n",
    "    -  its an ORM where classes can be mapped in the object model\n",
    "    -  used by many different companies\n",
    "4. Pandas (https://pandas.pydata.org/)\n",
    "    -  a python data analysis package\n",
    "    -  looks like it does many things possible in R but in python\n",
    "    \n",
    "## Part 1.2(B)\n",
    "#### python library like R (data analysis)\n",
    "\n",
    "- Matplotlib (https://matplotlib.org/)\n",
    "\n",
    "## Part 1.2(C)\n",
    "#### python library like R (Dataframes)\n",
    "\n",
    "-  Pandas (https://pandas.pydata.org/)"
   ]
  },
  {
   "cell_type": "markdown",
   "metadata": {},
   "source": [
    "## Part 1.3\n",
    "#### differences in syntax\n",
    "\n",
    "1. we use \"=\" for reading data in python\n",
    "2. R uses dollar signs to call functions for data analysis\n",
    "    -  python uses periods\n",
    "3. R needs the \",\" for a fucntion that needs more than one argument, pyton does not)\n",
    "4. pythin uses \"require\" for libraries (R uses library)\n",
    "    -  python will actually return a value for require as well"
   ]
  },
  {
   "cell_type": "markdown",
   "metadata": {},
   "source": [
    "## Part 2.4"
   ]
  },
  {
   "cell_type": "code",
   "execution_count": 49,
   "metadata": {},
   "outputs": [
    {
     "name": "stdout",
     "output_type": "stream",
     "text": [
      "Lets get this bread yeet\n"
     ]
    }
   ],
   "source": [
    "x = \"Lets\"\n",
    "y = \"get\"\n",
    "z = \"this\"\n",
    "a = \"bread\"\n",
    "b = \"yeet\"\n",
    "\n",
    "print x,y,z,a,b"
   ]
  },
  {
   "cell_type": "markdown",
   "metadata": {},
   "source": [
    "## Part 2.4"
   ]
  },
  {
   "cell_type": "code",
   "execution_count": 50,
   "metadata": {},
   "outputs": [
    {
     "name": "stdout",
     "output_type": "stream",
     "text": [
      "Lets get this bread yeet 5\n",
      "LETS GET THIS BREAD YEET 5\n"
     ]
    }
   ],
   "source": [
    "num = 5\n",
    "\n",
    "print x,y,z,a,b, str(num)\n",
    "print x.upper(),y.upper(),z.upper(),a.upper(),b.upper(),num"
   ]
  },
  {
   "cell_type": "markdown",
   "metadata": {},
   "source": [
    "## Part 2.6"
   ]
  },
  {
   "cell_type": "code",
   "execution_count": 51,
   "metadata": {},
   "outputs": [
    {
     "name": "stdout",
     "output_type": "stream",
     "text": [
      "5\n",
      "14\n"
     ]
    }
   ],
   "source": [
    "dumbPhrase1 = [x,y,z,a,b,str(num)]\n",
    "newstringphrase = \" \".join(dumbPhrase1)\n",
    "\n",
    "print(newstringphrase.count(\"e\"))\n",
    "print(newstringphrase.find(\"bread\"))"
   ]
  },
  {
   "cell_type": "markdown",
   "metadata": {},
   "source": [
    "## Part 2.7"
   ]
  },
  {
   "cell_type": "code",
   "execution_count": 52,
   "metadata": {},
   "outputs": [
    {
     "name": "stdout",
     "output_type": "stream",
     "text": [
      "Lets get this\n"
     ]
    }
   ],
   "source": [
    "print(newstringphrase[0:len(newstringphrase)/2])"
   ]
  },
  {
   "cell_type": "markdown",
   "metadata": {},
   "source": [
    "## Part 2.8"
   ]
  },
  {
   "cell_type": "code",
   "execution_count": 53,
   "metadata": {},
   "outputs": [
    {
     "name": "stdout",
     "output_type": "stream",
     "text": [
      "Lets get this bread yeet \n",
      "Lets get this communist manifesto yeet \n"
     ]
    }
   ],
   "source": [
    "strippedPhrase = newstringphrase.strip(\"5\")\n",
    "\n",
    "print strippedPhrase\n",
    "\n",
    "replacePhrase = strippedPhrase.replace(\"bread\", \"communist manifesto\")\n",
    "\n",
    "print replacePhrase"
   ]
  },
  {
   "cell_type": "markdown",
   "metadata": {},
   "source": [
    "## Part 2.9"
   ]
  },
  {
   "cell_type": "code",
   "execution_count": 54,
   "metadata": {},
   "outputs": [
    {
     "name": "stdout",
     "output_type": "stream",
     "text": [
      "['Lets', 'get', 'this', 'communist', 'manifesto', 'yeet']\n",
      "['Lets', 'get', 'this', 'communist', 'bread', 'manifesto', 'yeet']\n"
     ]
    }
   ],
   "source": [
    "newCommieList = replacePhrase.split()\n",
    "print newCommieList\n",
    "\n",
    "newCommieList.insert(4,\"bread\")\n",
    "print newCommieList"
   ]
  },
  {
   "cell_type": "markdown",
   "metadata": {},
   "source": [
    "## Part 3.10"
   ]
  },
  {
   "cell_type": "code",
   "execution_count": 55,
   "metadata": {},
   "outputs": [
    {
     "name": "stdout",
     "output_type": "stream",
     "text": [
      "3rd Quartile\n"
     ]
    }
   ],
   "source": [
    "import random\n",
    "rand = random.randint(1,100)\n",
    "if rand >= 1 and rand <= 25:\n",
    "    print (\"1st Quartile\")\n",
    "elif rand >= 26 and rand <= 50:\n",
    "    print (\"2nd Quartile\")\n",
    "elif rand >= 51 and rand <= 75:\n",
    "    print (\"3rd Quartile\")\n",
    "else:\n",
    "    print(\"4th Quartile\")\n"
   ]
  },
  {
   "cell_type": "markdown",
   "metadata": {},
   "source": [
    "## Part 4.11"
   ]
  },
  {
   "cell_type": "code",
   "execution_count": 56,
   "metadata": {},
   "outputs": [
    {
     "name": "stdout",
     "output_type": "stream",
     "text": [
      "Warning, residents of seattle, tempuratures will reach sub-zero temperatures today, please stay indoors if possible\n",
      "Warning, residents of singapore, tempuratures will reach sub-zero temperatures today, please stay indoors if possible\n",
      "Warning, residents of Atlantis, tempuratures will reach sub-zero temperatures today, please stay indoors if possible\n",
      "Warning, residents of Tokyo, tempuratures will reach sub-zero temperatures today, please stay indoors if possible\n",
      "Warning, residents of Naboo, tempuratures will reach sub-zero temperatures today, please stay indoors if possible\n",
      "Warning, residents of King's Canyon, tempuratures will reach sub-zero temperatures today, please stay indoors if possible\n"
     ]
    }
   ],
   "source": [
    "cityList = [\"seattle\",\"singapore\",\"Atlantis\", \"Tokyo\", \"Naboo\", \"King's Canyon\"]\n",
    "\n",
    "for i in cityList:\n",
    "    print (\"Warning, residents of \" + i + \", tempuratures will reach sub-zero temperatures today, please stay indoors if possible\")\n"
   ]
  },
  {
   "cell_type": "markdown",
   "metadata": {},
   "source": [
    "## Part 4.12"
   ]
  },
  {
   "cell_type": "code",
   "execution_count": 57,
   "metadata": {},
   "outputs": [
    {
     "name": "stdout",
     "output_type": "stream",
     "text": [
      "['U://Users/Zhang/Geog_458/Washington.shp', 'U://Users/Zhang/Geog_458/California.shp', 'U://Users/Zhang/Geog_458/Nevada.shp', 'U://Users/Zhang/Geog_458/Idaho.shp', 'U://Users/Zhang/Geog_458/Montana.shp', 'U://Users/Zhang/Geog_458/Utah.shp', 'U://Users/Zhang/Geog_458/Colorado.shp', 'U://Users/Zhang/Geog_458/New Mexico.shp']\n"
     ]
    }
   ],
   "source": [
    "fileList = []\n",
    "\n",
    "\n",
    "for z in [\"Washington\", \"California\", \"Nevada\", \"Idaho\", \"Montana\", \"Utah\", \"Colorado\", \"New Mexico\"]:\n",
    "    y = \"U://Users/Zhang/Geog_458/\" + z + \".shp\"\n",
    "    fileList.append(y)\n",
    "        \n",
    "print fileList"
   ]
  },
  {
   "cell_type": "markdown",
   "metadata": {},
   "source": [
    "## Part 4.13.1"
   ]
  },
  {
   "cell_type": "code",
   "execution_count": 58,
   "metadata": {},
   "outputs": [
    {
     "name": "stdout",
     "output_type": "stream",
     "text": [
      "T-MINUS 10\n",
      "T-MINUS 9\n",
      "T-MINUS 8\n",
      "T-MINUS 7\n",
      "T-MINUS 6\n",
      "T-MINUS 5\n",
      "T-MINUS 4\n",
      "T-MINUS 3\n",
      "T-MINUS 2\n",
      "T-MINUS 1\n",
      "T-MINUS 0\n"
     ]
    }
   ],
   "source": [
    "count = 11\n",
    "\n",
    "while count > 0: \n",
    "    count -= 1\n",
    "    print (\"T-MINUS \" + str(count))"
   ]
  },
  {
   "cell_type": "markdown",
   "metadata": {},
   "source": [
    "## Part 5.13.2"
   ]
  },
  {
   "cell_type": "code",
   "execution_count": 61,
   "metadata": {},
   "outputs": [
    {
     "name": "stdout",
     "output_type": "stream",
     "text": [
      "T-MINUS 11\n",
      "T-MINUS 10\n",
      "T-MINUS 9\n",
      "T-MINUS 8\n",
      "T-MINUS 7\n",
      "T-MINUS 6\n",
      "T-MINUS 5\n",
      "T-MINUS 4\n",
      "T-MINUS 3\n",
      "T-MINUS 2\n",
      "T-MINUS 1\n",
      "T-MINUS 0\n"
     ]
    }
   ],
   "source": [
    "def countdown(x):\n",
    "    while x > 0: \n",
    "        x -= 1\n",
    "        print (\"T-MINUS \" + str(x))\n",
    "    \n",
    "countdown(12)"
   ]
  },
  {
   "cell_type": "markdown",
   "metadata": {},
   "source": [
    "# Part 5.14"
   ]
  },
  {
   "cell_type": "code",
   "execution_count": 60,
   "metadata": {},
   "outputs": [
    {
     "name": "stdout",
     "output_type": "stream",
     "text": [
      "Error\n",
      "Error\n",
      "1st Quartile\n",
      "2nd Quartile\n",
      "3rd Quartile\n",
      "4th Quartile\n"
     ]
    }
   ],
   "source": [
    "def quartile_calc(user):\n",
    "    if user >= 1 and user <= 25:\n",
    "        print (\"1st Quartile\")\n",
    "    elif user >= 26 and user <= 50:\n",
    "        print (\"2nd Quartile\")\n",
    "    elif user >= 51 and user <= 75:\n",
    "        print (\"3rd Quartile\")\n",
    "    elif user >= 76 and user <= 100:\n",
    "        print(\"4th Quartile\")\n",
    "    else: \n",
    "        print(\"Error\")\n",
    "        \n",
    "quartile_calc(-12)\n",
    "quartile_calc(3042332)\n",
    "quartile_calc(22)\n",
    "quartile_calc(45)\n",
    "quartile_calc(62)\n",
    "quartile_calc(78)"
   ]
  }
 ],
 "metadata": {
  "kernelspec": {
   "display_name": "Python 2",
   "language": "python",
   "name": "python2"
  },
  "language_info": {
   "codemirror_mode": {
    "name": "ipython",
    "version": 2
   },
   "file_extension": ".py",
   "mimetype": "text/x-python",
   "name": "python",
   "nbconvert_exporter": "python",
   "pygments_lexer": "ipython2",
   "version": "2.7.15"
  }
 },
 "nbformat": 4,
 "nbformat_minor": 2
}
